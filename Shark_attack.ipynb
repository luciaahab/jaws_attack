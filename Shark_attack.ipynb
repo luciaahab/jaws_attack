{
 "cells": [
  {
   "cell_type": "code",
   "execution_count": 4,
   "id": "a1af22c8",
   "metadata": {},
   "outputs": [
    {
     "name": "stderr",
     "output_type": "stream",
     "text": [
      "UsageError: unrecognized arguments: #gráficos\n"
     ]
    }
   ],
   "source": [
    "import numpy as np\n",
    "import pandas as pd \n",
    "\n",
    "import pylab as plt\n",
    "import seaborn as sns\n",
    "\n",
    "%matplotlib inline #gráficos"
   ]
  },
  {
   "cell_type": "code",
   "execution_count": 7,
   "id": "98531c85",
   "metadata": {
    "scrolled": true
   },
   "outputs": [
    {
     "data": {
      "text/html": [
       "<div>\n",
       "<style scoped>\n",
       "    .dataframe tbody tr th:only-of-type {\n",
       "        vertical-align: middle;\n",
       "    }\n",
       "\n",
       "    .dataframe tbody tr th {\n",
       "        vertical-align: top;\n",
       "    }\n",
       "\n",
       "    .dataframe thead th {\n",
       "        text-align: right;\n",
       "    }\n",
       "</style>\n",
       "<table border=\"1\" class=\"dataframe\">\n",
       "  <thead>\n",
       "    <tr style=\"text-align: right;\">\n",
       "      <th></th>\n",
       "      <th>case number</th>\n",
       "      <th>date</th>\n",
       "      <th>year</th>\n",
       "      <th>type</th>\n",
       "      <th>country</th>\n",
       "      <th>area</th>\n",
       "      <th>location</th>\n",
       "      <th>activity</th>\n",
       "      <th>name</th>\n",
       "      <th>sex</th>\n",
       "      <th>...</th>\n",
       "      <th>species</th>\n",
       "      <th>investigator or source</th>\n",
       "      <th>pdf</th>\n",
       "      <th>href formula</th>\n",
       "      <th>href</th>\n",
       "      <th>case number.1</th>\n",
       "      <th>case number.2</th>\n",
       "      <th>original order</th>\n",
       "      <th>unnamed: 22</th>\n",
       "      <th>unnamed: 23</th>\n",
       "    </tr>\n",
       "  </thead>\n",
       "  <tbody>\n",
       "    <tr>\n",
       "      <th>0</th>\n",
       "      <td>2018.06.25</td>\n",
       "      <td>25-Jun-2018</td>\n",
       "      <td>2018.0</td>\n",
       "      <td>Boating</td>\n",
       "      <td>USA</td>\n",
       "      <td>California</td>\n",
       "      <td>Oceanside, San Diego County</td>\n",
       "      <td>Paddling</td>\n",
       "      <td>Julie Wolfe</td>\n",
       "      <td>F</td>\n",
       "      <td>...</td>\n",
       "      <td>White shark</td>\n",
       "      <td>R. Collier, GSAF</td>\n",
       "      <td>2018.06.25-Wolfe.pdf</td>\n",
       "      <td>http://sharkattackfile.net/spreadsheets/pdf_di...</td>\n",
       "      <td>http://sharkattackfile.net/spreadsheets/pdf_di...</td>\n",
       "      <td>2018.06.25</td>\n",
       "      <td>2018.06.25</td>\n",
       "      <td>6303.0</td>\n",
       "      <td>NaN</td>\n",
       "      <td>NaN</td>\n",
       "    </tr>\n",
       "    <tr>\n",
       "      <th>1</th>\n",
       "      <td>2018.06.18</td>\n",
       "      <td>18-Jun-2018</td>\n",
       "      <td>2018.0</td>\n",
       "      <td>Unprovoked</td>\n",
       "      <td>USA</td>\n",
       "      <td>Georgia</td>\n",
       "      <td>St. Simon Island, Glynn County</td>\n",
       "      <td>Standing</td>\n",
       "      <td>Adyson McNeely</td>\n",
       "      <td>F</td>\n",
       "      <td>...</td>\n",
       "      <td>NaN</td>\n",
       "      <td>K.McMurray, TrackingSharks.com</td>\n",
       "      <td>2018.06.18-McNeely.pdf</td>\n",
       "      <td>http://sharkattackfile.net/spreadsheets/pdf_di...</td>\n",
       "      <td>http://sharkattackfile.net/spreadsheets/pdf_di...</td>\n",
       "      <td>2018.06.18</td>\n",
       "      <td>2018.06.18</td>\n",
       "      <td>6302.0</td>\n",
       "      <td>NaN</td>\n",
       "      <td>NaN</td>\n",
       "    </tr>\n",
       "    <tr>\n",
       "      <th>2</th>\n",
       "      <td>2018.06.09</td>\n",
       "      <td>09-Jun-2018</td>\n",
       "      <td>2018.0</td>\n",
       "      <td>Invalid</td>\n",
       "      <td>USA</td>\n",
       "      <td>Hawaii</td>\n",
       "      <td>Habush, Oahu</td>\n",
       "      <td>Surfing</td>\n",
       "      <td>John Denges</td>\n",
       "      <td>M</td>\n",
       "      <td>...</td>\n",
       "      <td>NaN</td>\n",
       "      <td>K.McMurray, TrackingSharks.com</td>\n",
       "      <td>2018.06.09-Denges.pdf</td>\n",
       "      <td>http://sharkattackfile.net/spreadsheets/pdf_di...</td>\n",
       "      <td>http://sharkattackfile.net/spreadsheets/pdf_di...</td>\n",
       "      <td>2018.06.09</td>\n",
       "      <td>2018.06.09</td>\n",
       "      <td>6301.0</td>\n",
       "      <td>NaN</td>\n",
       "      <td>NaN</td>\n",
       "    </tr>\n",
       "    <tr>\n",
       "      <th>3</th>\n",
       "      <td>2018.06.08</td>\n",
       "      <td>08-Jun-2018</td>\n",
       "      <td>2018.0</td>\n",
       "      <td>Unprovoked</td>\n",
       "      <td>AUSTRALIA</td>\n",
       "      <td>New South Wales</td>\n",
       "      <td>Arrawarra Headland</td>\n",
       "      <td>Surfing</td>\n",
       "      <td>male</td>\n",
       "      <td>M</td>\n",
       "      <td>...</td>\n",
       "      <td>2 m shark</td>\n",
       "      <td>B. Myatt, GSAF</td>\n",
       "      <td>2018.06.08-Arrawarra.pdf</td>\n",
       "      <td>http://sharkattackfile.net/spreadsheets/pdf_di...</td>\n",
       "      <td>http://sharkattackfile.net/spreadsheets/pdf_di...</td>\n",
       "      <td>2018.06.08</td>\n",
       "      <td>2018.06.08</td>\n",
       "      <td>6300.0</td>\n",
       "      <td>NaN</td>\n",
       "      <td>NaN</td>\n",
       "    </tr>\n",
       "    <tr>\n",
       "      <th>4</th>\n",
       "      <td>2018.06.04</td>\n",
       "      <td>04-Jun-2018</td>\n",
       "      <td>2018.0</td>\n",
       "      <td>Provoked</td>\n",
       "      <td>MEXICO</td>\n",
       "      <td>Colima</td>\n",
       "      <td>La Ticla</td>\n",
       "      <td>Free diving</td>\n",
       "      <td>Gustavo Ramos</td>\n",
       "      <td>M</td>\n",
       "      <td>...</td>\n",
       "      <td>Tiger shark, 3m</td>\n",
       "      <td>A .Kipper</td>\n",
       "      <td>2018.06.04-Ramos.pdf</td>\n",
       "      <td>http://sharkattackfile.net/spreadsheets/pdf_di...</td>\n",
       "      <td>http://sharkattackfile.net/spreadsheets/pdf_di...</td>\n",
       "      <td>2018.06.04</td>\n",
       "      <td>2018.06.04</td>\n",
       "      <td>6299.0</td>\n",
       "      <td>NaN</td>\n",
       "      <td>NaN</td>\n",
       "    </tr>\n",
       "    <tr>\n",
       "      <th>...</th>\n",
       "      <td>...</td>\n",
       "      <td>...</td>\n",
       "      <td>...</td>\n",
       "      <td>...</td>\n",
       "      <td>...</td>\n",
       "      <td>...</td>\n",
       "      <td>...</td>\n",
       "      <td>...</td>\n",
       "      <td>...</td>\n",
       "      <td>...</td>\n",
       "      <td>...</td>\n",
       "      <td>...</td>\n",
       "      <td>...</td>\n",
       "      <td>...</td>\n",
       "      <td>...</td>\n",
       "      <td>...</td>\n",
       "      <td>...</td>\n",
       "      <td>...</td>\n",
       "      <td>...</td>\n",
       "      <td>...</td>\n",
       "      <td>...</td>\n",
       "    </tr>\n",
       "    <tr>\n",
       "      <th>25718</th>\n",
       "      <td>NaN</td>\n",
       "      <td>NaN</td>\n",
       "      <td>NaN</td>\n",
       "      <td>NaN</td>\n",
       "      <td>NaN</td>\n",
       "      <td>NaN</td>\n",
       "      <td>NaN</td>\n",
       "      <td>NaN</td>\n",
       "      <td>NaN</td>\n",
       "      <td>NaN</td>\n",
       "      <td>...</td>\n",
       "      <td>NaN</td>\n",
       "      <td>NaN</td>\n",
       "      <td>NaN</td>\n",
       "      <td>NaN</td>\n",
       "      <td>NaN</td>\n",
       "      <td>NaN</td>\n",
       "      <td>NaN</td>\n",
       "      <td>NaN</td>\n",
       "      <td>NaN</td>\n",
       "      <td>NaN</td>\n",
       "    </tr>\n",
       "    <tr>\n",
       "      <th>25719</th>\n",
       "      <td>NaN</td>\n",
       "      <td>NaN</td>\n",
       "      <td>NaN</td>\n",
       "      <td>NaN</td>\n",
       "      <td>NaN</td>\n",
       "      <td>NaN</td>\n",
       "      <td>NaN</td>\n",
       "      <td>NaN</td>\n",
       "      <td>NaN</td>\n",
       "      <td>NaN</td>\n",
       "      <td>...</td>\n",
       "      <td>NaN</td>\n",
       "      <td>NaN</td>\n",
       "      <td>NaN</td>\n",
       "      <td>NaN</td>\n",
       "      <td>NaN</td>\n",
       "      <td>NaN</td>\n",
       "      <td>NaN</td>\n",
       "      <td>NaN</td>\n",
       "      <td>NaN</td>\n",
       "      <td>NaN</td>\n",
       "    </tr>\n",
       "    <tr>\n",
       "      <th>25720</th>\n",
       "      <td>NaN</td>\n",
       "      <td>NaN</td>\n",
       "      <td>NaN</td>\n",
       "      <td>NaN</td>\n",
       "      <td>NaN</td>\n",
       "      <td>NaN</td>\n",
       "      <td>NaN</td>\n",
       "      <td>NaN</td>\n",
       "      <td>NaN</td>\n",
       "      <td>NaN</td>\n",
       "      <td>...</td>\n",
       "      <td>NaN</td>\n",
       "      <td>NaN</td>\n",
       "      <td>NaN</td>\n",
       "      <td>NaN</td>\n",
       "      <td>NaN</td>\n",
       "      <td>NaN</td>\n",
       "      <td>NaN</td>\n",
       "      <td>NaN</td>\n",
       "      <td>NaN</td>\n",
       "      <td>NaN</td>\n",
       "    </tr>\n",
       "    <tr>\n",
       "      <th>25721</th>\n",
       "      <td>NaN</td>\n",
       "      <td>NaN</td>\n",
       "      <td>NaN</td>\n",
       "      <td>NaN</td>\n",
       "      <td>NaN</td>\n",
       "      <td>NaN</td>\n",
       "      <td>NaN</td>\n",
       "      <td>NaN</td>\n",
       "      <td>NaN</td>\n",
       "      <td>NaN</td>\n",
       "      <td>...</td>\n",
       "      <td>NaN</td>\n",
       "      <td>NaN</td>\n",
       "      <td>NaN</td>\n",
       "      <td>NaN</td>\n",
       "      <td>NaN</td>\n",
       "      <td>NaN</td>\n",
       "      <td>NaN</td>\n",
       "      <td>NaN</td>\n",
       "      <td>NaN</td>\n",
       "      <td>NaN</td>\n",
       "    </tr>\n",
       "    <tr>\n",
       "      <th>25722</th>\n",
       "      <td>xx</td>\n",
       "      <td>NaN</td>\n",
       "      <td>NaN</td>\n",
       "      <td>NaN</td>\n",
       "      <td>NaN</td>\n",
       "      <td>NaN</td>\n",
       "      <td>NaN</td>\n",
       "      <td>NaN</td>\n",
       "      <td>NaN</td>\n",
       "      <td>NaN</td>\n",
       "      <td>...</td>\n",
       "      <td>NaN</td>\n",
       "      <td>NaN</td>\n",
       "      <td>NaN</td>\n",
       "      <td>NaN</td>\n",
       "      <td>NaN</td>\n",
       "      <td>NaN</td>\n",
       "      <td>NaN</td>\n",
       "      <td>NaN</td>\n",
       "      <td>NaN</td>\n",
       "      <td>NaN</td>\n",
       "    </tr>\n",
       "  </tbody>\n",
       "</table>\n",
       "<p>25723 rows × 24 columns</p>\n",
       "</div>"
      ],
      "text/plain": [
       "      case number         date    year        type    country  \\\n",
       "0      2018.06.25  25-Jun-2018  2018.0     Boating        USA   \n",
       "1      2018.06.18  18-Jun-2018  2018.0  Unprovoked        USA   \n",
       "2      2018.06.09  09-Jun-2018  2018.0     Invalid        USA   \n",
       "3      2018.06.08  08-Jun-2018  2018.0  Unprovoked  AUSTRALIA   \n",
       "4      2018.06.04  04-Jun-2018  2018.0    Provoked     MEXICO   \n",
       "...           ...          ...     ...         ...        ...   \n",
       "25718         NaN          NaN     NaN         NaN        NaN   \n",
       "25719         NaN          NaN     NaN         NaN        NaN   \n",
       "25720         NaN          NaN     NaN         NaN        NaN   \n",
       "25721         NaN          NaN     NaN         NaN        NaN   \n",
       "25722          xx          NaN     NaN         NaN        NaN   \n",
       "\n",
       "                  area                        location     activity  \\\n",
       "0           California     Oceanside, San Diego County     Paddling   \n",
       "1              Georgia  St. Simon Island, Glynn County     Standing   \n",
       "2               Hawaii                    Habush, Oahu      Surfing   \n",
       "3      New South Wales              Arrawarra Headland      Surfing   \n",
       "4               Colima                        La Ticla  Free diving   \n",
       "...                ...                             ...          ...   \n",
       "25718              NaN                             NaN          NaN   \n",
       "25719              NaN                             NaN          NaN   \n",
       "25720              NaN                             NaN          NaN   \n",
       "25721              NaN                             NaN          NaN   \n",
       "25722              NaN                             NaN          NaN   \n",
       "\n",
       "                  name sex   ...         species   \\\n",
       "0          Julie Wolfe    F  ...      White shark   \n",
       "1      Adyson McNeely     F  ...              NaN   \n",
       "2          John Denges    M  ...              NaN   \n",
       "3                 male    M  ...        2 m shark   \n",
       "4       Gustavo Ramos     M  ...  Tiger shark, 3m   \n",
       "...                ...  ...  ...              ...   \n",
       "25718              NaN  NaN  ...              NaN   \n",
       "25719              NaN  NaN  ...              NaN   \n",
       "25720              NaN  NaN  ...              NaN   \n",
       "25721              NaN  NaN  ...              NaN   \n",
       "25722              NaN  NaN  ...              NaN   \n",
       "\n",
       "               investigator or source                       pdf  \\\n",
       "0                    R. Collier, GSAF      2018.06.25-Wolfe.pdf   \n",
       "1      K.McMurray, TrackingSharks.com    2018.06.18-McNeely.pdf   \n",
       "2      K.McMurray, TrackingSharks.com     2018.06.09-Denges.pdf   \n",
       "3                      B. Myatt, GSAF  2018.06.08-Arrawarra.pdf   \n",
       "4                           A .Kipper      2018.06.04-Ramos.pdf   \n",
       "...                               ...                       ...   \n",
       "25718                             NaN                       NaN   \n",
       "25719                             NaN                       NaN   \n",
       "25720                             NaN                       NaN   \n",
       "25721                             NaN                       NaN   \n",
       "25722                             NaN                       NaN   \n",
       "\n",
       "                                            href formula  \\\n",
       "0      http://sharkattackfile.net/spreadsheets/pdf_di...   \n",
       "1      http://sharkattackfile.net/spreadsheets/pdf_di...   \n",
       "2      http://sharkattackfile.net/spreadsheets/pdf_di...   \n",
       "3      http://sharkattackfile.net/spreadsheets/pdf_di...   \n",
       "4      http://sharkattackfile.net/spreadsheets/pdf_di...   \n",
       "...                                                  ...   \n",
       "25718                                                NaN   \n",
       "25719                                                NaN   \n",
       "25720                                                NaN   \n",
       "25721                                                NaN   \n",
       "25722                                                NaN   \n",
       "\n",
       "                                                    href case number.1  \\\n",
       "0      http://sharkattackfile.net/spreadsheets/pdf_di...    2018.06.25   \n",
       "1      http://sharkattackfile.net/spreadsheets/pdf_di...    2018.06.18   \n",
       "2      http://sharkattackfile.net/spreadsheets/pdf_di...    2018.06.09   \n",
       "3      http://sharkattackfile.net/spreadsheets/pdf_di...    2018.06.08   \n",
       "4      http://sharkattackfile.net/spreadsheets/pdf_di...    2018.06.04   \n",
       "...                                                  ...           ...   \n",
       "25718                                                NaN           NaN   \n",
       "25719                                                NaN           NaN   \n",
       "25720                                                NaN           NaN   \n",
       "25721                                                NaN           NaN   \n",
       "25722                                                NaN           NaN   \n",
       "\n",
       "      case number.2 original order unnamed: 22 unnamed: 23  \n",
       "0        2018.06.25         6303.0         NaN         NaN  \n",
       "1        2018.06.18         6302.0         NaN         NaN  \n",
       "2        2018.06.09         6301.0         NaN         NaN  \n",
       "3        2018.06.08         6300.0         NaN         NaN  \n",
       "4        2018.06.04         6299.0         NaN         NaN  \n",
       "...             ...            ...         ...         ...  \n",
       "25718           NaN            NaN         NaN         NaN  \n",
       "25719           NaN            NaN         NaN         NaN  \n",
       "25720           NaN            NaN         NaN         NaN  \n",
       "25721           NaN            NaN         NaN         NaN  \n",
       "25722           NaN            NaN         NaN         NaN  \n",
       "\n",
       "[25723 rows x 24 columns]"
      ]
     },
     "execution_count": 7,
     "metadata": {},
     "output_type": "execute_result"
    }
   ],
   "source": [
    "df = pd.read_csv('attacks.csv', encoding='latin1')\n",
    "df.columns = [x.lower() for x in df.columns] #poner los nombres de las columnas en minus\n",
    "df"
   ]
  },
  {
   "cell_type": "code",
   "execution_count": 8,
   "id": "4a2ed751",
   "metadata": {},
   "outputs": [
    {
     "name": "stdout",
     "output_type": "stream",
     "text": [
      "<class 'pandas.core.frame.DataFrame'>\n",
      "RangeIndex: 25723 entries, 0 to 25722\n",
      "Data columns (total 24 columns):\n",
      " #   Column                  Non-Null Count  Dtype  \n",
      "---  ------                  --------------  -----  \n",
      " 0   case number             8702 non-null   object \n",
      " 1   date                    6302 non-null   object \n",
      " 2   year                    6300 non-null   float64\n",
      " 3   type                    6298 non-null   object \n",
      " 4   country                 6252 non-null   object \n",
      " 5   area                    5847 non-null   object \n",
      " 6   location                5762 non-null   object \n",
      " 7   activity                5758 non-null   object \n",
      " 8   name                    6092 non-null   object \n",
      " 9   sex                     5737 non-null   object \n",
      " 10  age                     3471 non-null   object \n",
      " 11  injury                  6274 non-null   object \n",
      " 12  fatal (y/n)             5763 non-null   object \n",
      " 13  time                    2948 non-null   object \n",
      " 14  species                 3464 non-null   object \n",
      " 15  investigator or source  6285 non-null   object \n",
      " 16  pdf                     6302 non-null   object \n",
      " 17  href formula            6301 non-null   object \n",
      " 18  href                    6302 non-null   object \n",
      " 19  case number.1           6302 non-null   object \n",
      " 20  case number.2           6302 non-null   object \n",
      " 21  original order          6309 non-null   float64\n",
      " 22  unnamed: 22             1 non-null      object \n",
      " 23  unnamed: 23             2 non-null      object \n",
      "dtypes: float64(2), object(22)\n",
      "memory usage: 22.8 MB\n"
     ]
    }
   ],
   "source": [
    "df.info(memory_usage='deep') #con esto se puede ver el tipo de dato. Hay MUY POCOS numéricos, no es bueno para gráfico"
   ]
  },
  {
   "cell_type": "code",
   "execution_count": 9,
   "id": "672753e5",
   "metadata": {},
   "outputs": [
    {
     "data": {
      "text/plain": [
       "Index(['year', 'original order'], dtype='object')"
      ]
     },
     "execution_count": 9,
     "metadata": {},
     "output_type": "execute_result"
    }
   ],
   "source": [
    "num_df=df.select_dtypes(exclude='object') #estas van a ser las columnas con valores NUMÉRICOS\n",
    "\n",
    "num_df.columns"
   ]
  },
  {
   "cell_type": "code",
   "execution_count": 10,
   "id": "4ca85807",
   "metadata": {},
   "outputs": [
    {
     "data": {
      "text/html": [
       "<div>\n",
       "<style scoped>\n",
       "    .dataframe tbody tr th:only-of-type {\n",
       "        vertical-align: middle;\n",
       "    }\n",
       "\n",
       "    .dataframe tbody tr th {\n",
       "        vertical-align: top;\n",
       "    }\n",
       "\n",
       "    .dataframe thead th {\n",
       "        text-align: right;\n",
       "    }\n",
       "</style>\n",
       "<table border=\"1\" class=\"dataframe\">\n",
       "  <thead>\n",
       "    <tr style=\"text-align: right;\">\n",
       "      <th></th>\n",
       "      <th>count</th>\n",
       "      <th>mean</th>\n",
       "      <th>std</th>\n",
       "      <th>min</th>\n",
       "      <th>25%</th>\n",
       "      <th>50%</th>\n",
       "      <th>75%</th>\n",
       "      <th>max</th>\n",
       "    </tr>\n",
       "  </thead>\n",
       "  <tbody>\n",
       "    <tr>\n",
       "      <th>year</th>\n",
       "      <td>6300.0</td>\n",
       "      <td>1927.272381</td>\n",
       "      <td>281.116308</td>\n",
       "      <td>0.0</td>\n",
       "      <td>1942.0</td>\n",
       "      <td>1977.0</td>\n",
       "      <td>2005.0</td>\n",
       "      <td>2018.0</td>\n",
       "    </tr>\n",
       "    <tr>\n",
       "      <th>original order</th>\n",
       "      <td>6309.0</td>\n",
       "      <td>3155.999683</td>\n",
       "      <td>1821.396206</td>\n",
       "      <td>2.0</td>\n",
       "      <td>1579.0</td>\n",
       "      <td>3156.0</td>\n",
       "      <td>4733.0</td>\n",
       "      <td>6310.0</td>\n",
       "    </tr>\n",
       "  </tbody>\n",
       "</table>\n",
       "</div>"
      ],
      "text/plain": [
       "                 count         mean          std  min     25%     50%     75%  \\\n",
       "year            6300.0  1927.272381   281.116308  0.0  1942.0  1977.0  2005.0   \n",
       "original order  6309.0  3155.999683  1821.396206  2.0  1579.0  3156.0  4733.0   \n",
       "\n",
       "                   max  \n",
       "year            2018.0  \n",
       "original order  6310.0  "
      ]
     },
     "execution_count": 10,
     "metadata": {},
     "output_type": "execute_result"
    }
   ],
   "source": [
    "num_df.describe().T "
   ]
  },
  {
   "cell_type": "code",
   "execution_count": 11,
   "id": "c0ee52f8",
   "metadata": {},
   "outputs": [
    {
     "data": {
      "text/plain": [
       "Index(['case number', 'date', 'type', 'country', 'area', 'location',\n",
       "       'activity', 'name', 'sex ', 'age', 'injury', 'fatal (y/n)', 'time',\n",
       "       'species ', 'investigator or source', 'pdf', 'href formula', 'href',\n",
       "       'case number.1', 'case number.2', 'unnamed: 22', 'unnamed: 23'],\n",
       "      dtype='object')"
      ]
     },
     "execution_count": 11,
     "metadata": {},
     "output_type": "execute_result"
    }
   ],
   "source": [
    "cat_df=df.select_dtypes(include='object') #Estas son las columnas con valores categóricos o NO numéricos\n",
    "                #href formula significa \n",
    "cat_df.columns #voy a cambiar el tipo de dato a las columnas de: case number, date, age, time, case number.1 y case number.2"
   ]
  },
  {
   "cell_type": "code",
   "execution_count": null,
   "id": "30ab84f8",
   "metadata": {},
   "outputs": [],
   "source": [
    "#case number.1 y case number.2 son duplicados de case number\n",
    "#El case number original parece que se genera a partir de la fecha, pero sirve para identificar. Puede ser 'id'. \n",
    "#En realidad hay 16 columnas útiles las otras 7 son 2 duplicadas, 2 de páginas web, 1 original order, 2 de troleo. \n",
    "#de las 16 útiles, 2 son numéricas. \n",
    "#Comprobar que todas las columnas tengan, cada una, el mismo tipo de valor"
   ]
  },
  {
   "cell_type": "code",
   "execution_count": 12,
   "id": "51c09113",
   "metadata": {},
   "outputs": [
    {
     "data": {
      "text/html": [
       "<div>\n",
       "<style scoped>\n",
       "    .dataframe tbody tr th:only-of-type {\n",
       "        vertical-align: middle;\n",
       "    }\n",
       "\n",
       "    .dataframe tbody tr th {\n",
       "        vertical-align: top;\n",
       "    }\n",
       "\n",
       "    .dataframe thead th {\n",
       "        text-align: right;\n",
       "    }\n",
       "</style>\n",
       "<table border=\"1\" class=\"dataframe\">\n",
       "  <thead>\n",
       "    <tr style=\"text-align: right;\">\n",
       "      <th></th>\n",
       "      <th>case_number</th>\n",
       "      <th>date</th>\n",
       "      <th>year</th>\n",
       "      <th>type</th>\n",
       "      <th>country</th>\n",
       "      <th>area</th>\n",
       "      <th>location</th>\n",
       "      <th>activity</th>\n",
       "      <th>name</th>\n",
       "      <th>sex</th>\n",
       "      <th>...</th>\n",
       "      <th>species</th>\n",
       "      <th>investigator_source</th>\n",
       "      <th>pdf</th>\n",
       "      <th>href_formula</th>\n",
       "      <th>href</th>\n",
       "      <th>case_n1</th>\n",
       "      <th>case_n2</th>\n",
       "      <th>original_order</th>\n",
       "      <th>unnamed_2</th>\n",
       "      <th>Unnamed_3</th>\n",
       "    </tr>\n",
       "  </thead>\n",
       "  <tbody>\n",
       "    <tr>\n",
       "      <th>0</th>\n",
       "      <td>2018.06.25</td>\n",
       "      <td>25-Jun-2018</td>\n",
       "      <td>2018.0</td>\n",
       "      <td>Boating</td>\n",
       "      <td>USA</td>\n",
       "      <td>California</td>\n",
       "      <td>Oceanside, San Diego County</td>\n",
       "      <td>Paddling</td>\n",
       "      <td>Julie Wolfe</td>\n",
       "      <td>F</td>\n",
       "      <td>...</td>\n",
       "      <td>White shark</td>\n",
       "      <td>R. Collier, GSAF</td>\n",
       "      <td>2018.06.25-Wolfe.pdf</td>\n",
       "      <td>http://sharkattackfile.net/spreadsheets/pdf_di...</td>\n",
       "      <td>http://sharkattackfile.net/spreadsheets/pdf_di...</td>\n",
       "      <td>2018.06.25</td>\n",
       "      <td>2018.06.25</td>\n",
       "      <td>6303.0</td>\n",
       "      <td>NaN</td>\n",
       "      <td>NaN</td>\n",
       "    </tr>\n",
       "    <tr>\n",
       "      <th>1</th>\n",
       "      <td>2018.06.18</td>\n",
       "      <td>18-Jun-2018</td>\n",
       "      <td>2018.0</td>\n",
       "      <td>Unprovoked</td>\n",
       "      <td>USA</td>\n",
       "      <td>Georgia</td>\n",
       "      <td>St. Simon Island, Glynn County</td>\n",
       "      <td>Standing</td>\n",
       "      <td>Adyson McNeely</td>\n",
       "      <td>F</td>\n",
       "      <td>...</td>\n",
       "      <td>NaN</td>\n",
       "      <td>K.McMurray, TrackingSharks.com</td>\n",
       "      <td>2018.06.18-McNeely.pdf</td>\n",
       "      <td>http://sharkattackfile.net/spreadsheets/pdf_di...</td>\n",
       "      <td>http://sharkattackfile.net/spreadsheets/pdf_di...</td>\n",
       "      <td>2018.06.18</td>\n",
       "      <td>2018.06.18</td>\n",
       "      <td>6302.0</td>\n",
       "      <td>NaN</td>\n",
       "      <td>NaN</td>\n",
       "    </tr>\n",
       "    <tr>\n",
       "      <th>2</th>\n",
       "      <td>2018.06.09</td>\n",
       "      <td>09-Jun-2018</td>\n",
       "      <td>2018.0</td>\n",
       "      <td>Invalid</td>\n",
       "      <td>USA</td>\n",
       "      <td>Hawaii</td>\n",
       "      <td>Habush, Oahu</td>\n",
       "      <td>Surfing</td>\n",
       "      <td>John Denges</td>\n",
       "      <td>M</td>\n",
       "      <td>...</td>\n",
       "      <td>NaN</td>\n",
       "      <td>K.McMurray, TrackingSharks.com</td>\n",
       "      <td>2018.06.09-Denges.pdf</td>\n",
       "      <td>http://sharkattackfile.net/spreadsheets/pdf_di...</td>\n",
       "      <td>http://sharkattackfile.net/spreadsheets/pdf_di...</td>\n",
       "      <td>2018.06.09</td>\n",
       "      <td>2018.06.09</td>\n",
       "      <td>6301.0</td>\n",
       "      <td>NaN</td>\n",
       "      <td>NaN</td>\n",
       "    </tr>\n",
       "    <tr>\n",
       "      <th>3</th>\n",
       "      <td>2018.06.08</td>\n",
       "      <td>08-Jun-2018</td>\n",
       "      <td>2018.0</td>\n",
       "      <td>Unprovoked</td>\n",
       "      <td>AUSTRALIA</td>\n",
       "      <td>New South Wales</td>\n",
       "      <td>Arrawarra Headland</td>\n",
       "      <td>Surfing</td>\n",
       "      <td>male</td>\n",
       "      <td>M</td>\n",
       "      <td>...</td>\n",
       "      <td>2 m shark</td>\n",
       "      <td>B. Myatt, GSAF</td>\n",
       "      <td>2018.06.08-Arrawarra.pdf</td>\n",
       "      <td>http://sharkattackfile.net/spreadsheets/pdf_di...</td>\n",
       "      <td>http://sharkattackfile.net/spreadsheets/pdf_di...</td>\n",
       "      <td>2018.06.08</td>\n",
       "      <td>2018.06.08</td>\n",
       "      <td>6300.0</td>\n",
       "      <td>NaN</td>\n",
       "      <td>NaN</td>\n",
       "    </tr>\n",
       "    <tr>\n",
       "      <th>4</th>\n",
       "      <td>2018.06.04</td>\n",
       "      <td>04-Jun-2018</td>\n",
       "      <td>2018.0</td>\n",
       "      <td>Provoked</td>\n",
       "      <td>MEXICO</td>\n",
       "      <td>Colima</td>\n",
       "      <td>La Ticla</td>\n",
       "      <td>Free diving</td>\n",
       "      <td>Gustavo Ramos</td>\n",
       "      <td>M</td>\n",
       "      <td>...</td>\n",
       "      <td>Tiger shark, 3m</td>\n",
       "      <td>A .Kipper</td>\n",
       "      <td>2018.06.04-Ramos.pdf</td>\n",
       "      <td>http://sharkattackfile.net/spreadsheets/pdf_di...</td>\n",
       "      <td>http://sharkattackfile.net/spreadsheets/pdf_di...</td>\n",
       "      <td>2018.06.04</td>\n",
       "      <td>2018.06.04</td>\n",
       "      <td>6299.0</td>\n",
       "      <td>NaN</td>\n",
       "      <td>NaN</td>\n",
       "    </tr>\n",
       "  </tbody>\n",
       "</table>\n",
       "<p>5 rows × 24 columns</p>\n",
       "</div>"
      ],
      "text/plain": [
       "  case_number         date    year        type    country             area  \\\n",
       "0  2018.06.25  25-Jun-2018  2018.0     Boating        USA       California   \n",
       "1  2018.06.18  18-Jun-2018  2018.0  Unprovoked        USA          Georgia   \n",
       "2  2018.06.09  09-Jun-2018  2018.0     Invalid        USA           Hawaii   \n",
       "3  2018.06.08  08-Jun-2018  2018.0  Unprovoked  AUSTRALIA  New South Wales   \n",
       "4  2018.06.04  04-Jun-2018  2018.0    Provoked     MEXICO           Colima   \n",
       "\n",
       "                         location     activity             name sex   ...  \\\n",
       "0     Oceanside, San Diego County     Paddling      Julie Wolfe    F  ...   \n",
       "1  St. Simon Island, Glynn County     Standing  Adyson McNeely     F  ...   \n",
       "2                    Habush, Oahu      Surfing      John Denges    M  ...   \n",
       "3              Arrawarra Headland      Surfing             male    M  ...   \n",
       "4                        La Ticla  Free diving   Gustavo Ramos     M  ...   \n",
       "\n",
       "          species              investigator_source                       pdf  \\\n",
       "0      White shark                R. Collier, GSAF      2018.06.25-Wolfe.pdf   \n",
       "1              NaN  K.McMurray, TrackingSharks.com    2018.06.18-McNeely.pdf   \n",
       "2              NaN  K.McMurray, TrackingSharks.com     2018.06.09-Denges.pdf   \n",
       "3        2 m shark                  B. Myatt, GSAF  2018.06.08-Arrawarra.pdf   \n",
       "4  Tiger shark, 3m                       A .Kipper      2018.06.04-Ramos.pdf   \n",
       "\n",
       "                                        href_formula  \\\n",
       "0  http://sharkattackfile.net/spreadsheets/pdf_di...   \n",
       "1  http://sharkattackfile.net/spreadsheets/pdf_di...   \n",
       "2  http://sharkattackfile.net/spreadsheets/pdf_di...   \n",
       "3  http://sharkattackfile.net/spreadsheets/pdf_di...   \n",
       "4  http://sharkattackfile.net/spreadsheets/pdf_di...   \n",
       "\n",
       "                                                href     case_n1     case_n2  \\\n",
       "0  http://sharkattackfile.net/spreadsheets/pdf_di...  2018.06.25  2018.06.25   \n",
       "1  http://sharkattackfile.net/spreadsheets/pdf_di...  2018.06.18  2018.06.18   \n",
       "2  http://sharkattackfile.net/spreadsheets/pdf_di...  2018.06.09  2018.06.09   \n",
       "3  http://sharkattackfile.net/spreadsheets/pdf_di...  2018.06.08  2018.06.08   \n",
       "4  http://sharkattackfile.net/spreadsheets/pdf_di...  2018.06.04  2018.06.04   \n",
       "\n",
       "  original_order unnamed_2 Unnamed_3  \n",
       "0         6303.0       NaN       NaN  \n",
       "1         6302.0       NaN       NaN  \n",
       "2         6301.0       NaN       NaN  \n",
       "3         6300.0       NaN       NaN  \n",
       "4         6299.0       NaN       NaN  \n",
       "\n",
       "[5 rows x 24 columns]"
      ]
     },
     "execution_count": 12,
     "metadata": {},
     "output_type": "execute_result"
    }
   ],
   "source": [
    "#cambiar nombre de columnas\n",
    "df.rename(columns={'case number':'case_number', 'fatal (y/n)': 'fatal_yn', 'investigator or source': 'investigator_source', 'href formula': 'href_formula','case number.1':'case_n1' , 'case number.2': 'case_n2','original order':'original_order', 'unnamed: 22':'unnamed_2', 'unnamed: 23':'Unnamed_3'}, inplace=True)\n",
    "df.head()   #Se podría haber hecho con .replace"
   ]
  },
  {
   "cell_type": "code",
   "execution_count": null,
   "id": "f80c5797",
   "metadata": {},
   "outputs": [],
   "source": [
    "#HACER DESPUÉS\n",
    "#reemplazar nan por 0s\n",
    "#df.Unnamed_22.replace(np.nan, value = 0.0, inplace = True)\n",
    "#df.Unnamed_23.replace(np.nan, value = 0.0, inplace = True)"
   ]
  },
  {
   "cell_type": "code",
   "execution_count": 13,
   "id": "b6dc5371",
   "metadata": {},
   "outputs": [
    {
     "data": {
      "text/plain": [
       "(25723, 24)"
      ]
     },
     "execution_count": 13,
     "metadata": {},
     "output_type": "execute_result"
    }
   ],
   "source": [
    "df.dropna(subset=['date'])   #recortar los valores nulos de fecha\n",
    "df.shape"
   ]
  },
  {
   "cell_type": "code",
   "execution_count": 14,
   "id": "74014dde",
   "metadata": {},
   "outputs": [
    {
     "name": "stdout",
     "output_type": "stream",
     "text": [
      "<class 'pandas.core.frame.DataFrame'>\n",
      "RangeIndex: 25723 entries, 0 to 25722\n",
      "Data columns (total 24 columns):\n",
      " #   Column               Non-Null Count  Dtype  \n",
      "---  ------               --------------  -----  \n",
      " 0   case_number          8702 non-null   object \n",
      " 1   date                 6302 non-null   object \n",
      " 2   year                 6300 non-null   float64\n",
      " 3   type                 6298 non-null   object \n",
      " 4   country              6252 non-null   object \n",
      " 5   area                 5847 non-null   object \n",
      " 6   location             5762 non-null   object \n",
      " 7   activity             5758 non-null   object \n",
      " 8   name                 6092 non-null   object \n",
      " 9   sex                  5737 non-null   object \n",
      " 10  age                  3471 non-null   object \n",
      " 11  injury               6274 non-null   object \n",
      " 12  fatal_yn             5763 non-null   object \n",
      " 13  time                 2948 non-null   object \n",
      " 14  species              3464 non-null   object \n",
      " 15  investigator_source  6285 non-null   object \n",
      " 16  pdf                  6302 non-null   object \n",
      " 17  href_formula         6301 non-null   object \n",
      " 18  href                 6302 non-null   object \n",
      " 19  case_n1              6302 non-null   object \n",
      " 20  case_n2              6302 non-null   object \n",
      " 21  original_order       6309 non-null   float64\n",
      " 22  unnamed_2            1 non-null      object \n",
      " 23  Unnamed_3            2 non-null      object \n",
      "dtypes: float64(2), object(22)\n",
      "memory usage: 22.8 MB\n"
     ]
    }
   ],
   "source": [
    "df.info(memory_usage='deep')"
   ]
  },
  {
   "cell_type": "code",
   "execution_count": 15,
   "id": "f825c339",
   "metadata": {},
   "outputs": [
    {
     "data": {
      "text/plain": [
       "stopped here    1\n",
       "Name: unnamed_2, dtype: int64"
      ]
     },
     "execution_count": 15,
     "metadata": {},
     "output_type": "execute_result"
    }
   ],
   "source": [
    "df['unnamed_2'].dropna(inplace=True)\n",
    "df.unnamed_2.value_counts()   #hay un valor tipo int: 'stopped here'. A saber dónde"
   ]
  },
  {
   "cell_type": "markdown",
   "id": "e95efe77",
   "metadata": {},
   "source": []
  },
  {
   "cell_type": "code",
   "execution_count": 16,
   "id": "3fd8f147",
   "metadata": {},
   "outputs": [
    {
     "data": {
      "text/plain": [
       "0               2400\n",
       "1920.00.00.b       2\n",
       "1966.12.26         2\n",
       "2014.08.02         2\n",
       "1990.05.10         2\n",
       "                ... \n",
       "1999.09.05         1\n",
       "1999.09.10         1\n",
       "1999.09.16         1\n",
       "1999.09.18         1\n",
       "xx                 1\n",
       "Name: case_number, Length: 6287, dtype: int64"
      ]
     },
     "execution_count": 16,
     "metadata": {},
     "output_type": "execute_result"
    }
   ],
   "source": [
    "#borrar filas de nulos. Seleccionarlas y borrar por abajo\n",
    "df.case_number.value_counts() #contar las filas con cierto valor"
   ]
  },
  {
   "cell_type": "code",
   "execution_count": 17,
   "id": "355f22d9",
   "metadata": {},
   "outputs": [
    {
     "data": {
      "text/plain": [
       "1957                          11\n",
       "1942                           9\n",
       "1956                           8\n",
       "1958                           7\n",
       "1950                           7\n",
       "                              ..\n",
       "01-Dec-1994                    1\n",
       "Reported      10-Dec-1994      1\n",
       "11-Dec-1994                    1\n",
       "13-Dec-1994                    1\n",
       "1845-1853                      1\n",
       "Name: date, Length: 5433, dtype: int64"
      ]
     },
     "execution_count": 17,
     "metadata": {},
     "output_type": "execute_result"
    }
   ],
   "source": [
    "df.date.value_counts()"
   ]
  },
  {
   "cell_type": "code",
   "execution_count": 18,
   "id": "7979b79e",
   "metadata": {},
   "outputs": [
    {
     "data": {
      "text/plain": [
       "5434"
      ]
     },
     "execution_count": 18,
     "metadata": {},
     "output_type": "execute_result"
    }
   ],
   "source": [
    "len(df.date.unique()) #Date tiene 5434 filas nulas. Buscar datos con letras y cambiar\n"
   ]
  },
  {
   "cell_type": "code",
   "execution_count": 19,
   "id": "0901307d",
   "metadata": {},
   "outputs": [
    {
     "data": {
      "text/plain": [
       "array(['25-Jun-2018', '18-Jun-2018', '09-Jun-2018', ..., '1883-1889',\n",
       "       '1845-1853', nan], dtype=object)"
      ]
     },
     "execution_count": 19,
     "metadata": {},
     "output_type": "execute_result"
    }
   ],
   "source": [
    "data_un = df.date.unique()\n",
    "data_un"
   ]
  },
  {
   "cell_type": "code",
   "execution_count": null,
   "id": "bc64f249",
   "metadata": {},
   "outputs": [],
   "source": [
    "#df.Date.dropna()\n",
    "#df['Date'].dropna(inplace=True)\n",
    "#df.drop('Date', axis=1, inplace=True)\n",
    "#df.Date.value_counts()"
   ]
  },
  {
   "cell_type": "code",
   "execution_count": 20,
   "id": "1e0733e1",
   "metadata": {},
   "outputs": [
    {
     "data": {
      "text/plain": [
       "(8703, 24)"
      ]
     },
     "execution_count": 20,
     "metadata": {},
     "output_type": "execute_result"
    }
   ],
   "source": [
    "df.dropna(axis = 'index', how= 'all', inplace= True) #Meterle un tajazo a TODAS las filas del índice que tengan todo valores NaN\n",
    "df.shape     "
   ]
  },
  {
   "cell_type": "code",
   "execution_count": 21,
   "id": "6bb06f80",
   "metadata": {},
   "outputs": [
    {
     "data": {
      "text/plain": [
       "250"
      ]
     },
     "execution_count": 21,
     "metadata": {},
     "output_type": "execute_result"
    }
   ],
   "source": [
    "df.year.value_counts() #sólo 249 filas\n",
    "len(df.year.unique()) #249 únicos y uno nan\n"
   ]
  },
  {
   "cell_type": "code",
   "execution_count": 22,
   "id": "bc4be385",
   "metadata": {},
   "outputs": [
    {
     "data": {
      "text/plain": [
       "(5142, 24)"
      ]
     },
     "execution_count": 22,
     "metadata": {},
     "output_type": "execute_result"
    }
   ],
   "source": [
    "df.drop_duplicates(subset ='name', keep = False, inplace = True)   #Eliminar duplicados\n",
    "\n",
    "df.shape"
   ]
  },
  {
   "cell_type": "code",
   "execution_count": null,
   "id": "49e8ec15",
   "metadata": {},
   "outputs": [],
   "source": [
    "#df.year.fillna(0) #Rellenar el NaN con un 0"
   ]
  },
  {
   "cell_type": "code",
   "execution_count": null,
   "id": "8fd2bbb5",
   "metadata": {},
   "outputs": [],
   "source": [
    "#len(df.year.unique()) #YASSS"
   ]
  },
  {
   "cell_type": "code",
   "execution_count": 23,
   "id": "210195cc",
   "metadata": {},
   "outputs": [
    {
     "data": {
      "text/plain": [
       "(5142, 24)"
      ]
     },
     "execution_count": 23,
     "metadata": {},
     "output_type": "execute_result"
    }
   ],
   "source": [
    "null_cols = df.isnull().sum()   #Valores nulos de las columnas\n",
    "null_cols[null_cols > 0]\n",
    "\n",
    "drop_cols = list(null_cols[null_cols > 2000].index) #quitar todas las que tengan más de 2000\n",
    "data = df.drop(drop_cols, axis=1)\n",
    "\n",
    "#data.shape\n",
    "df.shape\n",
    "#si ignoramos por descarte las dos columnas de troleo, solo tenemos que preocuparnos por las columnas de de +5000 valores, las demás son bastante homogéneas en número"
   ]
  },
  {
   "cell_type": "code",
   "execution_count": 24,
   "id": "f7d9d7e0",
   "metadata": {},
   "outputs": [
    {
     "name": "stdout",
     "output_type": "stream",
     "text": [
      "<class 'pandas.core.frame.DataFrame'>\n",
      "Int64Index: 5142 entries, 0 to 6300\n",
      "Data columns (total 24 columns):\n",
      " #   Column               Non-Null Count  Dtype  \n",
      "---  ------               --------------  -----  \n",
      " 0   case_number          5141 non-null   object \n",
      " 1   date                 5142 non-null   object \n",
      " 2   year                 5140 non-null   float64\n",
      " 3   type                 5141 non-null   object \n",
      " 4   country              5108 non-null   object \n",
      " 5   area                 4822 non-null   object \n",
      " 6   location             4756 non-null   object \n",
      " 7   activity             4807 non-null   object \n",
      " 8   name                 5142 non-null   object \n",
      " 9   sex                  4785 non-null   object \n",
      " 10  age                  3123 non-null   object \n",
      " 11  injury               5124 non-null   object \n",
      " 12  fatal_yn             4756 non-null   object \n",
      " 13  time                 2607 non-null   object \n",
      " 14  species              2993 non-null   object \n",
      " 15  investigator_source  5132 non-null   object \n",
      " 16  pdf                  5142 non-null   object \n",
      " 17  href_formula         5141 non-null   object \n",
      " 18  href                 5142 non-null   object \n",
      " 19  case_n1              5142 non-null   object \n",
      " 20  case_n2              5142 non-null   object \n",
      " 21  original_order       5142 non-null   float64\n",
      " 22  unnamed_2            1 non-null      object \n",
      " 23  Unnamed_3            2 non-null      object \n",
      "dtypes: float64(2), object(22)\n",
      "memory usage: 7.7 MB\n"
     ]
    }
   ],
   "source": [
    "df.info(memory_usage='deep')"
   ]
  },
  {
   "cell_type": "code",
   "execution_count": null,
   "id": "cc9677ec",
   "metadata": {},
   "outputs": [],
   "source": [
    "#ahora hay que arreglar tabla por tabla\n",
    "#Cambiar todos los índices. En función de qué columna? Puede ser de las fechas porque tiene más "
   ]
  },
  {
   "cell_type": "code",
   "execution_count": null,
   "id": "aa99ad27",
   "metadata": {},
   "outputs": [],
   "source": [
    "#df['Year']\n",
    "#year_null = df.Year.isnull().sum()   #Valores nulos en la columna de Year\n",
    "#len(df.Date.unique())  #5434 Valores únicos, extensión de 8703 valores\n",
    "\n"
   ]
  },
  {
   "cell_type": "code",
   "execution_count": 25,
   "id": "d6830433",
   "metadata": {},
   "outputs": [
    {
     "data": {
      "text/plain": [
       "0       False\n",
       "1       False\n",
       "2       False\n",
       "4       False\n",
       "5       False\n",
       "        ...  \n",
       "6290    False\n",
       "6291    False\n",
       "6292    False\n",
       "6298    False\n",
       "6300    False\n",
       "Name: unnamed_2, Length: 5142, dtype: bool"
      ]
     },
     "execution_count": 25,
     "metadata": {},
     "output_type": "execute_result"
    }
   ],
   "source": [
    "df.index  \n",
    "#df.at[22, 'unnamed_2'] ==\n",
    "filt = (df['unnamed_2']) == 'stopped here'\n",
    "filt.unique().sum()\n",
    "filt"
   ]
  },
  {
   "cell_type": "code",
   "execution_count": 26,
   "id": "472a1604",
   "metadata": {},
   "outputs": [
    {
     "data": {
      "text/plain": [
       "0                                                Paddling\n",
       "1                                                Standing\n",
       "2                                                 Surfing\n",
       "4                                             Free diving\n",
       "5                                            Kite surfing\n",
       "                              ...                        \n",
       "6271                               Spent 8 days in dinghy\n",
       "6274                                  Wooden fishing boat\n",
       "6281    Swimming in pool formed by construction of a w...\n",
       "6284                        Swimming around anchored ship\n",
       "6287                 Wreck of  large double sailing canoe\n",
       "Name: activity, Length: 1255, dtype: object"
      ]
     },
     "execution_count": 26,
     "metadata": {},
     "output_type": "execute_result"
    }
   ],
   "source": [
    "#df.activity.unique()   #hay 1115 actividades diferentes\n",
    "\n",
    "df.activity.drop_duplicates()\n",
    "\n"
   ]
  },
  {
   "cell_type": "code",
   "execution_count": 50,
   "id": "c20df826",
   "metadata": {},
   "outputs": [],
   "source": [
    "df.case_number.replace('\\.','-', regex=True, inplace = True)   #cambiar el punto por - para que sirva en datetime\n",
    "df.case_number.replace('[a-zA-Z]',' ', regex=True, inplace = True) #quitar letras. Creo que hay que mergear columnas\n",
    "\n",
    "#df.case_number=pd.to_datetime(df.case_number, format='%y-%m-%d')"
   ]
  },
  {
   "cell_type": "code",
   "execution_count": null,
   "id": "c51e50e8",
   "metadata": {},
   "outputs": [],
   "source": []
  },
  {
   "cell_type": "code",
   "execution_count": null,
   "id": "fa0a53d4",
   "metadata": {},
   "outputs": [],
   "source": [
    "data['year'] = data['year'].astype('object')\n",
    "data['year'].dtype"
   ]
  },
  {
   "cell_type": "code",
   "execution_count": null,
   "id": "06f5847b",
   "metadata": {},
   "outputs": [],
   "source": [
    "df.groupby('year').count()\n"
   ]
  },
  {
   "cell_type": "code",
   "execution_count": null,
   "id": "b99a6bd3",
   "metadata": {},
   "outputs": [],
   "source": [
    "data['year'] = data['year'].astype('object')\n",
    "data['year'].dtype\n",
    "df.groupby('year').count()\n",
    "#df.year"
   ]
  },
  {
   "cell_type": "code",
   "execution_count": null,
   "id": "d1ef5209",
   "metadata": {},
   "outputs": [],
   "source": [
    "plt.figure(figsize = (15,5))\n",
    "sns.histplot(data=df, x=\"year\")\n",
    "plt.show()"
   ]
  },
  {
   "cell_type": "code",
   "execution_count": null,
   "id": "25d52eac",
   "metadata": {},
   "outputs": [],
   "source": [
    "df = df.loc[df['year'] > 1900,:]   #casi toda la información se concentra en registros del S.XX. Con el loc se encuentra y se chopea\n",
    "table = df.groupby('year').count()\n",
    "table.head()"
   ]
  },
  {
   "cell_type": "code",
   "execution_count": null,
   "id": "af4c6c36",
   "metadata": {},
   "outputs": [],
   "source": [
    "plt.figure(figsize = (15,5))   #nuevo cuadro cortado, desde el S.XX hasta 2018 (que no hay más datos)\n",
    "sns.histplot(data = table, x = 'year')\n",
    "plt.show()"
   ]
  },
  {
   "cell_type": "code",
   "execution_count": null,
   "id": "c5d2df34",
   "metadata": {},
   "outputs": [],
   "source": []
  },
  {
   "cell_type": "code",
   "execution_count": null,
   "id": "4b8cd8d1",
   "metadata": {},
   "outputs": [],
   "source": []
  },
  {
   "cell_type": "code",
   "execution_count": null,
   "id": "0c4e563c",
   "metadata": {},
   "outputs": [],
   "source": [
    "#Para borrar filas DESPUÉS\n",
    "#cols=['id', 'host_id', 'host_name'\n",
    "#airbnb.drop(cols, axis=1, inplace=True)"
   ]
  }
 ],
 "metadata": {
  "kernelspec": {
   "display_name": "Python 3 (ipykernel)",
   "language": "python",
   "name": "python3"
  },
  "language_info": {
   "codemirror_mode": {
    "name": "ipython",
    "version": 3
   },
   "file_extension": ".py",
   "mimetype": "text/x-python",
   "name": "python",
   "nbconvert_exporter": "python",
   "pygments_lexer": "ipython3",
   "version": "3.9.7"
  }
 },
 "nbformat": 4,
 "nbformat_minor": 5
}
